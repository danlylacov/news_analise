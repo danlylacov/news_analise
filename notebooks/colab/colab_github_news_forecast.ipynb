{
  "cells": [
    {
      "cell_type": "markdown",
      "metadata": {},
      "source": [
        "# FORECAST в Google Colab через GitHub (Новости → Тикеры → Влияние на свечи)\n",
        "\n",
        "Инструкции:\n",
        "- Создайте репозиторий на GitHub и добавьте туда папку проекта `news_analize` (скрипты .py и .csv).\n",
        "- При приватном репозитории используйте GitHub Personal Access Token (fine-grained, только read).\n",
        "- В Colab включите GPU: Runtime → Change runtime type → Hardware accelerator → GPU.\n",
        "- Запускайте ячейки сверху вниз.\n"
      ]
    },
    {
      "cell_type": "code",
      "execution_count": null,
      "metadata": {},
      "outputs": [],
      "source": [
        "# Параметры репозитория\n",
        "REPO_URL = \"https://github.com/<USER_OR_ORG>/<REPO>.git\"  # замените на ваш URL\n",
        "USE_TOKEN = False  # выставьте True, если репозиторий приватный\n",
        "GITHUB_TOKEN = \"\"  # вставьте токен при приватном доступе\n",
        "\n",
        "import os\n",
        "if USE_TOKEN and GITHUB_TOKEN:\n",
        "    REPO_URL_AUTH = REPO_URL.replace('https://', f'https://{GITHUB_TOKEN}@')\n",
        "else:\n",
        "    REPO_URL_AUTH = REPO_URL\n",
        "print('Repo URL:', REPO_URL_AUTH)\n"
      ]
    },
    {
      "cell_type": "code",
      "execution_count": null,
      "metadata": {},
      "outputs": [],
      "source": [
        "!git clone $REPO_URL_AUTH\n",
        "!ls -la\n"
      ]
    },
    {
      "cell_type": "code",
      "execution_count": null,
      "metadata": {},
      "outputs": [],
      "source": [
        "# Переходим в папку проекта (укажите правильный путь, если репозиторий иначе устроен)\n",
        "import os, glob\n",
        "repo_root = [d for d in os.listdir('.') if os.path.isdir(d) and d != 'sample_data']\n",
        "print('Candidates:', repo_root)\n",
        "%cd {repo_root[0]}/news_analize\n",
        "!ls -la\n"
      ]
    },
    {
      "cell_type": "code",
      "execution_count": null,
      "metadata": {},
      "outputs": [],
      "source": [
        "pip install -q -r requirements.txt\n",
        "# PyTorch обычно уже есть в Colab. При необходимости можно доустановить CUDA-колёсами.\n"
      ]
    },
    {
      "cell_type": "code",
      "execution_count": null,
      "metadata": {},
      "outputs": [],
      "source": [
        "# Авторазметка тикеров (если нет столбца tickers)\n",
        "!python auto_label_tickers.py --news test_news.csv --out task_1_news_autolabeled.csv\n",
        "\n",
        "import pandas as pd\n",
        "x = pd.read_csv('task_1_news_autolabeled.csv')\n",
        "print(x[['publish_date','title','tickers']].head())\n"
      ]
    },
    {
      "cell_type": "code",
      "execution_count": null,
      "metadata": {},
      "outputs": [],
      "source": [
        "# Обучение модели новости→тикеры (при необходимости уменьшите ресурсы)\n",
        "!python train_news_ticker.py --news task_1_news_autolabeled.csv --artifacts artifacts/ --epochs 3 --batch_size 64 --max_len 256\n",
        "\n",
        "import os\n",
        "print('Artifacts:', os.listdir('artifacts'))\n"
      ]
    },
    {
      "cell_type": "code",
      "execution_count": null,
      "metadata": {},
      "outputs": [],
      "source": [
        "# Инференс влияния на свечи\n",
        "!python infer_news_to_candles.py \\\n",
        "  --news task_1_news_autolabeled.csv \\\n",
        "  --candles public_test_candles.csv \\\n",
        "  --artifacts artifacts/ \\\n",
        "  --out nn_features.parquet\n",
        "\n",
        "import pandas as pd\n",
        "fe = pd.read_parquet('nn_features.parquet')\n",
        "print(fe.head())\n",
        "print('rows:', len(fe))\n"
      ]
    }
  ],
  "metadata": {
    "language_info": {
      "name": "python"
    }
  },
  "nbformat": 4,
  "nbformat_minor": 2
}
