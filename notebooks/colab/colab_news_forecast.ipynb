{
  "cells": [
    {
      "cell_type": "markdown",
      "metadata": {},
      "source": [
        "# FORECAST в Google Colab: Новости → Тикеры → Влияние на свечи\n",
        "\n",
        "Инструкции:\n",
        "- Загрузите ваш проект в Google Drive в папку `MyDrive/news_analize` (вся папка с .py и .csv).\n",
        "- В меню Colab включите GPU: Runtime → Change runtime type → Hardware accelerator → GPU.\n",
        "- Запускайте ячейки сверху вниз.\n"
      ]
    },
    {
      "cell_type": "code",
      "execution_count": null,
      "metadata": {},
      "outputs": [],
      "source": [
        "# Маунт Google Drive\n",
        "from google.colab import drive\n",
        "drive.mount('/content/drive')\n",
        "\n",
        "PROJECT_DIR = '/content/drive/MyDrive/news_analize'\n",
        "%cd $PROJECT_DIR\n",
        "!ls -la\n"
      ]
    },
    {
      "cell_type": "code",
      "execution_count": null,
      "metadata": {},
      "outputs": [],
      "source": [
        "pip install -q pandas==2.2.2 numpy==1.26.4 pyarrow==16.1.0 scikit-learn==1.5.1 razdel==0.5.0 pymorphy3==2.0.2 pymorphy3-dicts-ru==2.4.417150.4580142 rapidfuzz==3.9.6 emoji==2.12.1 text-unidecode==1.3 torch torchvision torchaudio --index-url https://download.pytorch.org/whl/cu121\n"
      ]
    },
    {
      "cell_type": "code",
      "execution_count": null,
      "metadata": {},
      "outputs": [],
      "source": [
        "# Авторазметка тикеров (если нет столбца tickers)\n",
        "!python auto_label_tickers.py --news test_news.csv --out task_1_news_autolabeled.csv\n",
        "\n",
        "import pandas as pd\n",
        "x = pd.read_csv('task_1_news_autolabeled.csv')\n",
        "print(x[['publish_date','title','tickers']].head())\n"
      ]
    },
    {
      "cell_type": "code",
      "execution_count": null,
      "metadata": {},
      "outputs": [],
      "source": [
        "# Обучение модели новости→тикеры (щадящие параметры)\n",
        "!python train_news_ticker.py --news task_1_news_autolabeled.csv --artifacts artifacts/ --epochs 3 --batch_size 64 --max_len 256\n",
        "\n",
        "import os\n",
        "print('Artifacts:', os.listdir('artifacts'))\n"
      ]
    },
    {
      "cell_type": "code",
      "execution_count": null,
      "metadata": {},
      "outputs": [],
      "source": [
        "# Инференс влияния на свечи\n",
        "# Замените имя файла свечей при необходимости\n",
        "!python infer_news_to_candles.py \\\n",
        "  --news task_1_news_autolabeled.csv \\\n",
        "  --candles public_test_candles.csv \\\n",
        "  --artifacts artifacts/ \\\n",
        "  --out nn_features.parquet\n",
        "\n",
        "import pandas as pd\n",
        "fe = pd.read_parquet('nn_features.parquet')\n",
        "print(fe.head())\n",
        "print('rows:', len(fe))\n"
      ]
    }
  ],
  "metadata": {
    "language_info": {
      "name": "python"
    }
  },
  "nbformat": 4,
  "nbformat_minor": 2
}
